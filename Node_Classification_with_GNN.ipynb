{
 "cells": [
  {
   "cell_type": "code",
   "execution_count": 1,
   "id": "101d422d",
   "metadata": {
    "id": "101d422d"
   },
   "outputs": [],
   "source": [
    "import numpy as np\n",
    "import matplotlib.pyplot as plt\n",
    "import networkx as nx\n",
    "import copy, time\n",
    "\n",
    "\n",
    "import jax                                                 #! pip install --upgrade jax jaxlib\n",
    "import jax.numpy as jnp\n",
    "from jax import grad, jit, vmap\n",
    "from jax.example_libraries import optimizers\n",
    "\n",
    "\n",
    "from sklearn.preprocessing import LabelBinarizer\n",
    "\n"
   ]
  },
  {
   "cell_type": "markdown",
   "id": "ac01de00",
   "metadata": {},
   "source": [
    "# data loading ..."
   ]
  },
  {
   "cell_type": "raw",
   "id": "87b773fc",
   "metadata": {},
   "source": [
    "from torch_geometric.datasets import Planetoid\n",
    "\n",
    "dataset = Planetoid(root='data/Planetoid', name='Cora')[0] # Cora CiteSeer PubMed\n",
    "dataset"
   ]
  },
  {
   "cell_type": "code",
   "execution_count": 2,
   "id": "981b790b",
   "metadata": {},
   "outputs": [
    {
     "data": {
      "text/plain": [
       "Data(x=[183, 1703], edge_index=[2, 325], y=[183], train_mask=[183, 10], val_mask=[183, 10], test_mask=[183, 10])"
      ]
     },
     "execution_count": 2,
     "metadata": {},
     "output_type": "execute_result"
    }
   ],
   "source": [
    "from torch_geometric.datasets import WebKB\n",
    "\n",
    "dataset = WebKB(root='data/WebKB', name='Texas')[0] #Texas Cornell Wisconsin\n",
    "dataset"
   ]
  },
  {
   "cell_type": "markdown",
   "id": "2a560524",
   "metadata": {},
   "source": [
    "# X = feature vectors,    $\\  $       y = class labels, $\\  $  and edges"
   ]
  },
  {
   "cell_type": "code",
   "execution_count": 3,
   "id": "e6b2f11a",
   "metadata": {},
   "outputs": [
    {
     "name": "stdout",
     "output_type": "stream",
     "text": [
      "Number of nodes = 183, Number of features = 1703\n",
      "Number of classes = 5\n",
      "Number of edges = 325\n"
     ]
    }
   ],
   "source": [
    "edge_index = np.array(dataset.edge_index)\n",
    "X = np.array(dataset.x)\n",
    "y = np.array(dataset.y)\n",
    "\n",
    "y_bin = LabelBinarizer().fit_transform(y)\n",
    "\n",
    "\n",
    "num_nodes, num_features = X.shape\n",
    "print(f'Number of nodes = {num_nodes}, Number of features = {num_features}')\n",
    "\n",
    "num_classes = len(np.unique(y))\n",
    "print(\"Number of classes =\", num_classes)\n",
    "\n",
    "num_edges = edge_index.shape[1]\n",
    "print(\"Number of edges =\", num_edges)"
   ]
  },
  {
   "cell_type": "markdown",
   "id": "41f1b366",
   "metadata": {},
   "source": [
    "# Graph"
   ]
  },
  {
   "cell_type": "raw",
   "id": "feca8249",
   "metadata": {},
   "source": [
    "\n",
    "plt.subplots(figsize=(15,10))\n",
    "np.random.seed(0)\n",
    "G = nx.Graph()\n",
    "G.add_nodes_from(list(np.arange(num_nodes)))\n",
    "G.add_edges_from((np.array(edge_index)).T)\n",
    "nx.draw(G, with_labels=True, node_color=y)\n",
    "\n"
   ]
  },
  {
   "cell_type": "markdown",
   "id": "0d166914",
   "metadata": {},
   "source": [
    "# A measure of homophily and heterophily"
   ]
  },
  {
   "cell_type": "code",
   "execution_count": 4,
   "id": "8fdde7fc",
   "metadata": {},
   "outputs": [
    {
     "name": "stdout",
     "output_type": "stream",
     "text": [
      "homophily = 0.1077\n",
      "heterophily = 0.8923\n"
     ]
    }
   ],
   "source": [
    "\n",
    "homophily = 0\n",
    "for i in range(num_edges):\n",
    "    homophily += int(y[edge_index[0,i]]==y[edge_index[1,i]])  \n",
    "    # = 1 if both nodes (connected by the edge) have same label, 0 otherwise\n",
    "    \n",
    "\n",
    "\n",
    "homophily =  homophily/num_edges\n",
    "heterophily = 1 - homophily\n",
    "\n",
    "print(f\"homophily = {homophily:.4f}\" )\n",
    "print(f\"heterophily = {heterophily:.4f}\" )"
   ]
  },
  {
   "cell_type": "markdown",
   "id": "592bf5ea",
   "metadata": {},
   "source": [
    "# Adjacency matrix"
   ]
  },
  {
   "cell_type": "code",
   "execution_count": 5,
   "id": "c56fcd8f",
   "metadata": {},
   "outputs": [
    {
     "name": "stdout",
     "output_type": "stream",
     "text": [
      "Is adjacency matrix symmetric: True\n"
     ]
    }
   ],
   "source": [
    "adj_mat = np.zeros((num_nodes, num_nodes))    \n",
    "for i in range(num_edges):\n",
    "    adj_mat[edge_index[0, i], edge_index[1, i]]=1    \n",
    "    adj_mat[edge_index[1, i], edge_index[0, i]]=1\n",
    "\n",
    "\n",
    "    \n",
    "print(\"Is adjacency matrix symmetric:\", np.mean(adj_mat == adj_mat.T)==1)\n",
    "\n",
    "\n",
    "Identity_mat = np.eye(num_nodes, num_nodes) \n"
   ]
  },
  {
   "cell_type": "markdown",
   "id": "5392ccc3",
   "metadata": {},
   "source": [
    "# Training and Test sample"
   ]
  },
  {
   "cell_type": "code",
   "execution_count": 6,
   "id": "479fc65a",
   "metadata": {},
   "outputs": [
    {
     "name": "stdout",
     "output_type": "stream",
     "text": [
      "ids_train = [ 53  91 118 178  47 166  31 177 152 120]\n",
      "ids_test = [128   1 129 133 134   7   8 137 139 140]\n",
      "\n",
      "Total number of nodes = 183\n",
      "\n",
      "Number of training nodes = 146\n",
      "Number of test nodes = 37\n"
     ]
    }
   ],
   "source": [
    "'Random training and test splitting'\n",
    "\n",
    "all_ids = np.arange(num_nodes)\n",
    "\n",
    "def sample_ids(num_examples, fraction):\n",
    "    ids_train = np.random.choice(num_examples, size=int(num_examples*fraction), replace=False)\n",
    "    ids_test = np.array(list(set(all_ids)-set(ids_train)))\n",
    "    return ids_train, ids_test\n",
    "\n",
    "#-------------------------------------------------------------------------\n",
    "\n",
    "np.random.seed(1)\n",
    "\n",
    "fraction_train = 0.8\n",
    "ids_train, ids_test = sample_ids(num_nodes, fraction_train)\n",
    "print(\"ids_train =\", ids_train[:10])\n",
    "print(\"ids_test =\", ids_test[:10])\n",
    "print()\n",
    "\n",
    "\n",
    "#-------------------------------------------------------------------------\n",
    "\n",
    "print(\"Total number of nodes =\", num_nodes)\n",
    "print()\n",
    "print(\"Number of training nodes =\", ids_train.shape[0])\n",
    "print(\"Number of test nodes =\", ids_test.shape[0])\n"
   ]
  },
  {
   "cell_type": "raw",
   "id": "1c350cb8",
   "metadata": {},
   "source": [
    "all_ids = np.arange(num_nodes)\n",
    "\n",
    "ids_test = np.array([128,   6, 134, 137, 138,  11, 140,  21,  24, 154, 155,  29, 158,\n",
    "         31, 161, 162, 163, 165,  39,  41, 169, 172, 174, 181,  54, 182,\n",
    "         78,  82,  85,  95,  97, 107, 111, 115, 116, 117, 126])\n",
    "\n",
    "ids_train = np.array(list(set(all_ids)-set(ids_test)))\n",
    "\n",
    "\"On Texas, this train/test split gives test_acc = 0.972972972972973\""
   ]
  },
  {
   "cell_type": "raw",
   "id": "92597482",
   "metadata": {},
   "source": [
    "all_ids = np.arange(num_nodes)\n",
    "\n",
    "ids_test = np.array([   0,    4,    5, 2053, 2056,   11, 2060, 2061,   15, 2063,   17,\n",
    "          20,   22,   24, 2073, 2076, 2082, 2086,   39, 2087,   44, 2094,\n",
    "          47,   53,   54, 2102, 2103, 2104, 2105,   63,   66,   67, 2115,\n",
    "          70, 2119, 2120,   73, 2122, 2129,   83, 2131, 2132, 2134, 2135,\n",
    "        2136,   91,  101,  103,  104, 2153,  108, 2157,  112, 2160,  120,\n",
    "        2169, 2174, 2180,  135, 2183,  137,  141, 2189,  144, 2193,  146,\n",
    "         147, 2194, 2196,  154, 2208, 2212, 2214,  170,  171, 2225, 2231,\n",
    "        2232, 2235,  188, 2241, 2242,  196,  197,  199, 2250, 2256,  210,\n",
    "        2260, 2262, 2266,  225,  232, 2290,  244,  245, 2293,  248, 2304,\n",
    "         259, 2310,  263,  265,  267,  273,  277, 2325, 2326, 2327, 2328,\n",
    "        2330,  285, 2333, 2336, 2338,  292,  293, 2341,  298,  299, 2347,\n",
    "         301, 2350,  303, 2354, 2357, 2371, 2372,  326,  327,  328, 2379,\n",
    "         332,  333,  336, 2386, 2389,  342, 2392, 2394, 2395, 2398,  351,\n",
    "         357, 2408,  361, 2410, 2412,  367,  368, 2419,  372, 2420, 2425,\n",
    "         378,  379,  383, 2433,  386,  388, 2437, 2438, 2441, 2443, 2446,\n",
    "        2448,  401,  402,  403, 2450,  411, 2461, 2463, 2465,  422, 2472,\n",
    "         437,  438, 2486,  440, 2489,  444,  448,  452,  454, 2503,  458,\n",
    "         459,  464,  465,  466, 2513,  468, 2518,  472, 2521,  480,  481,\n",
    "        2533,  487,  489,  490,  491, 2544,  499, 2547,  502, 2551,  512,\n",
    "        2562, 2564, 2565, 2572, 2573, 2574,  528, 2576, 2580,  533, 2581,\n",
    "        2584,  540,  543, 2596, 2598,  552,  555,  556, 2604, 2605,  561,\n",
    "         562, 2610,  566,  567,  568, 2616, 2619, 2620, 2622,  576, 2626,\n",
    "         580, 2629, 2630,  583, 2633,  591, 2642,  597, 2652,  610, 2658,\n",
    "         618, 2666,  621,  624, 2673,  626,  629, 2679, 2680,  633, 2684,\n",
    "        2685,  638,  639,  641, 2694,  647, 2695, 2697, 2700, 2701, 2702,\n",
    "        2703,  662,  667,  675,  684,  686,  699,  700,  702,  709,  710,\n",
    "         726,  727,  730,  731,  743,  754,  765,  781,  783,  792,  794,\n",
    "         796,  803,  806,  817,  823,  831,  836,  839,  844,  849,  852,\n",
    "         859,  860,  879,  882,  904,  908,  910,  911,  912,  919,  931,\n",
    "         940,  956,  968,  980,  989,  998,  999, 1005, 1016, 1023, 1026,\n",
    "        1033, 1037, 1040, 1042, 1048, 1049, 1051, 1057, 1061, 1064, 1069,\n",
    "        1073, 1074, 1077, 1084, 1086, 1100, 1101, 1104, 1107, 1109, 1113,\n",
    "        1114, 1115, 1116, 1119, 1121, 1124, 1125, 1128, 1129, 1130, 1140,\n",
    "        1154, 1157, 1162, 1165, 1167, 1168, 1180, 1182, 1190, 1193, 1198,\n",
    "        1199, 1200, 1217, 1219, 1221, 1224, 1228, 1231, 1232, 1235, 1241,\n",
    "        1245, 1247, 1252, 1254, 1259, 1267, 1281, 1292, 1294, 1295, 1297,\n",
    "        1299, 1300, 1301, 1309, 1310, 1312, 1313, 1316, 1319, 1322, 1328,\n",
    "        1329, 1354, 1359, 1366, 1377, 1382, 1384, 1387, 1389, 1399, 1410,\n",
    "        1415, 1417, 1419, 1422, 1428, 1433, 1437, 1445, 1446, 1447, 1450,\n",
    "        1457, 1460, 1465, 1474, 1479, 1483, 1490, 1492, 1504, 1506, 1510,\n",
    "        1511, 1512, 1517, 1522, 1526, 1527, 1534, 1539, 1542, 1543, 1546,\n",
    "        1554, 1555, 1563, 1568, 1574, 1584, 1590, 1603, 1604, 1605, 1610,\n",
    "        1612, 1614, 1629, 1633, 1636, 1643, 1644, 1648, 1650, 1651, 1657,\n",
    "        1661, 1668, 1669, 1674, 1677, 1680, 1693, 1702, 1723, 1730, 1739,\n",
    "        1743, 1756, 1759, 1765, 1773, 1774, 1775, 1778, 1781, 1782, 1794,\n",
    "        1797, 1800, 1802, 1804, 1809, 1814, 1827, 1828, 1834, 1835, 1861,\n",
    "        1868, 1881, 1885, 1886, 1893, 1897, 1904, 1905, 1915, 1917, 1920,\n",
    "        1926, 1929, 1937, 1938, 1942, 1944, 1949, 1967, 1969, 1973, 1980,\n",
    "        1982, 1988, 1989, 1991, 1992, 2001, 2005, 2010, 2021, 2029, 2030,\n",
    "        2036, 2042, 2046])\n",
    "\n",
    "ids_train = np.array(list(set(all_ids)-set(ids_test)))\n",
    "\n",
    "\"\"\"\n",
    "On Cora, this train/test split with \n",
    "A = alpha[0]*Identity_mat + alpha[1]*(adj_mat) + alpha[2]*(Identity_mat - adj_mat)\n",
    "\n",
    "step_size = 0.01\n",
    "eps = 1e-03\n",
    "num_epoch = 151\n",
    "\n",
    "gives test_acc = 0.915129151291513\n",
    "\n",
    "\"\"\"\n",
    "print()"
   ]
  },
  {
   "cell_type": "markdown",
   "id": "74e26f2b",
   "metadata": {},
   "source": [
    "$ $\n",
    "\n",
    "\n",
    "# single GNN layer (Transductive learning) with Identity, Low- and High-pass filters\n",
    "\n",
    "\n",
    "$ $"
   ]
  },
  {
   "cell_type": "code",
   "execution_count": 7,
   "id": "ce177f19",
   "metadata": {},
   "outputs": [],
   "source": [
    "\n",
    "\n",
    "\n",
    "\n",
    "@jax.jit\n",
    "def Gconv(h, Wba):                   \n",
    "    Wb = Wba[0]\n",
    "    W, b = Wb[:-1], Wb[-1]          # last row is bias = b, dim(W) = (num_old_features, num_new_features)\n",
    "    b = b.reshape(1, b.shape[0])    # dim(b) = (1, num_new_features) is a row vector \n",
    "    \n",
    "    alpha = jax.nn.softmax(Wba[1])\n",
    "    A = alpha[0]*Identity_mat + alpha[1]*(Identity_mat + adj_mat) + alpha[2]*(Identity_mat - adj_mat)\n",
    "\n",
    "    h = A @ h @ W  + b              # aggregation\n",
    "    h = jax.nn.sigmoid(h)           # dim(h) = (num_nodes, num_new_features)\n",
    "    return h\n",
    "\n",
    "\n",
    "\n",
    "@jax.jit\n",
    "def h_out(params, X):                          \n",
    "    h = jax.nn.normalize(X)         # dim(h) = (num_papers, num_old_features)\n",
    "    h = Gconv(h, params)            # 1st GNN layer\n",
    "    return h\n",
    "\n",
    "\n",
    "\n",
    "@jax.jit\n",
    "def loss(params, X, y_bin, ids_train):\n",
    "    h = h_out(params, X)                       # dim(h) = (num_papers, num_classes) after h_out\n",
    "    h, y_bin  = h[ids_train], y_bin[ids_train] # only training nodes are used for learning\n",
    "    h = jax.nn.softmax(h, axis=1)            # After softmax, each row will be normalized (sum of its entries = 1)\n",
    "    return -jnp.mean(y_bin*jnp.log(h))         # cross-entropy-loss \n",
    "\n",
    "\n",
    "\n",
    "\n",
    "def accuracy(params, X, y, ids_train, ids_test):\n",
    "    p_out = h_out(params, X) \n",
    "    pred = np.array([np.argmax(p) for p in p_out])     # prediction: Using the class with highest probability.\n",
    "    \n",
    "    compair = (pred == y)\n",
    "    \n",
    "    train_acc = np.sum(compair[ids_train]) / ids_train.shape[0]\n",
    "    test_acc = np.sum(compair[ids_test]) / ids_test.shape[0]\n",
    "    \n",
    "    return train_acc, test_acc\n",
    "\n"
   ]
  },
  {
   "cell_type": "markdown",
   "id": "fb26a069",
   "metadata": {},
   "source": [
    "# Training ..."
   ]
  },
  {
   "cell_type": "code",
   "execution_count": 8,
   "id": "e4696aaa",
   "metadata": {
    "scrolled": false
   },
   "outputs": [
    {
     "name": "stderr",
     "output_type": "stream",
     "text": [
      "WARNING:absl:No GPU/TPU found, falling back to CPU. (Set TF_CPP_MIN_LOG_LEVEL=0 and rerun for more info.)\n"
     ]
    },
    {
     "name": "stdout",
     "output_type": "stream",
     "text": [
      "(1704, 5) (3,)\n",
      "\n",
      "Epoch: 0, Loss: 0.3219, Train acc: 0.5479, Test acc: 0.6216\n",
      "Epoch: 30, Loss: 0.1875, Train acc: 1.0000, Test acc: 0.9189\n",
      "Epoch: 60, Loss: 0.1830, Train acc: 1.0000, Test acc: 0.8919\n",
      "Epoch: 90, Loss: 0.1818, Train acc: 1.0000, Test acc: 0.8919\n",
      "Epoch: 120, Loss: 0.1816, Train acc: 1.0000, Test acc: 0.8919\n",
      "Epoch: 150, Loss: 0.1814, Train acc: 1.0000, Test acc: 0.8919\n",
      "\n",
      "time taken = 5.024761438369751\n"
     ]
    },
    {
     "data": {
      "image/png": "[encoded data removed]",
      "text/plain": [
       "<Figure size 432x288 with 1 Axes>"
      ]
     },
     "metadata": {
      "needs_background": "light"
     },
     "output_type": "display_data"
    },
    {
     "data": {
      "image/png": "[encoded data removed]",
      "text/plain": [
       "<Figure size 432x288 with 1 Axes>"
      ]
     },
     "metadata": {
      "needs_background": "light"
     },
     "output_type": "display_data"
    },
    {
     "name": "stdout",
     "output_type": "stream",
     "text": [
      "Fractions of Identity, Low- and High-pass filters in A: [0.33096728 0.31285638 0.3561764 ]\n"
     ]
    }
   ],
   "source": [
    "step_size = 0.005\n",
    "eps = 1e-03\n",
    "num_epoch = 151\n",
    "\n",
    "\n",
    "#===========================================================================\n",
    "\n",
    "\n",
    "\"Initalization of learnable parameters W, b, alpha\"\n",
    "params = [jnp.zeros((num_features + 1, num_classes)), # = W, b\n",
    "          jnp.zeros(3), # = alpha\n",
    "         ] \n",
    "          \n",
    "\n",
    "\n",
    "print(params[0].shape, params[1].shape)\n",
    "print()\n",
    "\n",
    "\n",
    "#-------------------------------------------------------------------------\n",
    "\n",
    "opt_init, opt_update, get_params = optimizers.adam(step_size, b1=0.9, b2=0.999, eps=eps)\n",
    "opt_state = opt_init(params)\n",
    "\n",
    "\n",
    "def iteration(i, opt_state):                     # ids_train : only training nodes are used for learning\n",
    "    value_of_loss, grads = jax.value_and_grad(loss)(get_params(opt_state), X=X, y_bin=y_bin, ids_train=ids_train)\n",
    "    opt_state = opt_update(i, grads, opt_state)  # updated optimizer state\n",
    "    return value_of_loss, opt_state\n",
    "\n",
    "\n",
    "#===========================================================================\n",
    "\n",
    "\n",
    "max_test_acc = 0\n",
    "final_params = params                       # initalization\n",
    "\n",
    "\n",
    "loss_acc = []\n",
    "t1_start = time.time()                      # Start the stopwatch\n",
    "\n",
    "\n",
    "for epoch in range(num_epoch):\n",
    "    value_of_loss, opt_state = iteration(epoch, opt_state)\n",
    "    Params = get_params(opt_state)\n",
    "    train_acc, test_acc = accuracy(Params, X, y, ids_train, ids_test)\n",
    "    \n",
    "    loss_acc += [[value_of_loss, train_acc, test_acc]]\n",
    "    \n",
    "    if max_test_acc < test_acc and test_acc <= train_acc:\n",
    "        max_test_acc = test_acc\n",
    "        final_params = Params\n",
    "\n",
    "    if epoch % 30 == 0:                  \n",
    "        print(f'Epoch: {epoch}, Loss: {value_of_loss:.4f}, Train acc: {train_acc:.4f}, Test acc: {test_acc:.4f}')\n",
    "\n",
    "\n",
    "t1_stop = time.time()                     # Stop the stopwatch\n",
    "print()\n",
    "print(\"time taken =\", t1_stop-t1_start)     \n",
    "\n",
    "\n",
    "#===========================================================================\n",
    "\n",
    "\n",
    "\n",
    "loss_acc = np.array(loss_acc)\n",
    "        \n",
    "plt.plot(loss_acc[:,0])\n",
    "plt.xlabel(\"epoch\")\n",
    "plt.ylabel(\"loss\")\n",
    "plt.show()\n",
    "\n",
    "plt.plot(loss_acc[:,1:], label=['Train accuracy', 'Test accuracy'])\n",
    "plt.xlabel(\"epoch\")\n",
    "plt.legend()\n",
    "plt.show()\n",
    "\n",
    "\n",
    "#------------------------------------------------------------------------\n",
    "\n",
    "\n",
    "print(\"Fractions of Identity, Low- and High-pass filters in A:\", jax.nn.softmax(final_params[1]))"
   ]
  },
  {
   "cell_type": "markdown",
   "id": "04439892",
   "metadata": {},
   "source": [
    "# performance evaluation:"
   ]
  },
  {
   "cell_type": "code",
   "execution_count": 9,
   "id": "a1199ab4",
   "metadata": {},
   "outputs": [
    {
     "name": "stdout",
     "output_type": "stream",
     "text": [
      "number of epochs = 151\n",
      "step_size = 0.005\n",
      "eps = 0.001\n",
      "time taken in training (sec.) = 5.024761438369751\n",
      "fraction of trainning examples = 0.8000\n",
      "Number of nodes = 183\n",
      "Number of training nodes = 146\n",
      "Number of test nodes = 37\n",
      "----------------------------------\n",
      "train accuracy = 0.9932\n",
      "test accuracy = 0.9189\n",
      "----------------------------------\n",
      "a sanity check: True\n"
     ]
    }
   ],
   "source": [
    "print(f\"number of epochs = {num_epoch}\")\n",
    "print(f\"step_size = {step_size}\")\n",
    "print(f\"eps = {eps}\")\n",
    "print(f\"time taken in training (sec.) = {t1_stop-t1_start}\") \n",
    "print(f\"fraction of trainning examples = {fraction_train:.4f}\" )\n",
    "print(f'Number of nodes = {num_nodes}')\n",
    "print(\"Number of training nodes =\", ids_train.shape[0])\n",
    "print(\"Number of test nodes =\", ids_test.shape[0])\n",
    "\n",
    "\n",
    "\n",
    "train_acc, test_acc = accuracy(final_params, X, y, ids_train, ids_test)\n",
    "\n",
    "print(\"----------------------------------\")\n",
    "print(f\"train accuracy = {train_acc:.4f}\" )\n",
    "print(f\"test accuracy = {test_acc:.4f}\" )\n",
    "print(\"----------------------------------\")\n",
    "\n",
    "print(\"a sanity check:\", max_test_acc == test_acc)"
   ]
  },
  {
   "cell_type": "markdown",
   "id": "02266754",
   "metadata": {},
   "source": [
    "# visualization"
   ]
  },
  {
   "cell_type": "code",
   "execution_count": 10,
   "id": "593993bb",
   "metadata": {},
   "outputs": [
    {
     "name": "stderr",
     "output_type": "stream",
     "text": [
      "/home/arun/.local/lib/python3.8/site-packages/sklearn/manifold/_t_sne.py:780: FutureWarning: The default initialization in TSNE will change from 'random' to 'pca' in 1.2.\n",
      "  warnings.warn(\n",
      "/home/arun/.local/lib/python3.8/site-packages/sklearn/manifold/_t_sne.py:790: FutureWarning: The default learning rate in TSNE will change from 200.0 to 'auto' in 1.2.\n",
      "  warnings.warn(\n"
     ]
    },
    {
     "data": {
      "image/png": "[encoded data removed]",
      "text/plain": [
       "<Figure size 720x720 with 1 Axes>"
      ]
     },
     "metadata": {},
     "output_type": "display_data"
    }
   ],
   "source": [
    "from sklearn.manifold import TSNE\n",
    "\n",
    "def visualize(h, color):\n",
    "    z = TSNE(n_components=2).fit_transform(h)\n",
    "\n",
    "    plt.figure(figsize=(10,10))\n",
    "    plt.xticks([])\n",
    "    plt.yticks([])\n",
    "\n",
    "    plt.scatter(z[:, 0], z[:, 1], s=70, c=color, cmap=\"Set2\")\n",
    "    plt.show()\n",
    "    \n",
    "#------------------------------------------------------------------------\n",
    "\n",
    "\"After training\"\n",
    "\n",
    "p_out_final = h_out(final_params, X) \n",
    "visualize(p_out_final, y)"
   ]
  },
  {
   "cell_type": "markdown",
   "id": "dde8fd83",
   "metadata": {},
   "source": [
    "# $ $\n",
    "\n",
    "\n",
    "\n",
    "\n",
    "$ $"
   ]
  },
  {
   "cell_type": "markdown",
   "id": "0860175d",
   "metadata": {},
   "source": [
    "# 2-layer GCN (transductive learning) with PyTorch Geometric"
   ]
  },
  {
   "cell_type": "code",
   "execution_count": 11,
   "id": "ba564e24",
   "metadata": {},
   "outputs": [],
   "source": [
    "import torch                                                \n",
    "import torch.nn.functional as F\n",
    "from torch_geometric.nn import GCNConv, Linear  \n",
    "\n",
    "edge_index = dataset.edge_index\n",
    "X = dataset.x\n",
    "y = dataset.y\n",
    "\n"
   ]
  },
  {
   "cell_type": "code",
   "execution_count": 12,
   "id": "a4436939",
   "metadata": {},
   "outputs": [],
   "source": [
    "def train():\n",
    "    model.train()\n",
    "    optimizer.zero_grad()                             # Clear gradients.\n",
    "    out = model(X, edge_index)                        # Perform a single forward pass.\n",
    "    loss = criterion(out[ids_train], y[ids_train])    # Compute the loss solely based on the training nodes.\n",
    "    loss.backward()                                   # Derive gradients.\n",
    "    optimizer.step()                                  # Update parameters based on gradients.\n",
    "    return loss\n",
    "\n",
    "\n",
    "def Accuracy():\n",
    "    model.eval()\n",
    "    out = model(X, edge_index)\n",
    "    pred = out.argmax(dim=1)                          # prediction: Using the class with highest probability.\n",
    "    \n",
    "    compair = np.array(pred == y)                     # compair against ground-truth\n",
    "    \n",
    "    train_acc = np.sum(compair[ids_train]) / ids_train.shape[0]\n",
    "    test_acc = np.sum(compair[ids_test]) / ids_test.shape[0]\n",
    "    \n",
    "    return train_acc, test_acc\n",
    "\n"
   ]
  },
  {
   "cell_type": "code",
   "execution_count": 13,
   "id": "fb43f1f5",
   "metadata": {},
   "outputs": [],
   "source": [
    "\n",
    "def training(num_epoch):\n",
    "    max_test_acc = 0                                       # initialization\n",
    "\n",
    "    loss_acc = []\n",
    "    for epoch in range(num_epoch):\n",
    "        loss = train()\n",
    "        train_acc, test_acc = Accuracy()\n",
    "        loss_acc += [[loss.item(), train_acc, test_acc]]\n",
    "        if max_test_acc < test_acc and test_acc <= train_acc:\n",
    "            max_test_acc = test_acc\n",
    "            torch.save(model.state_dict(), 'final_model.pt') # save final_model\n",
    "    \n",
    "        if epoch % 50 == 0:\n",
    "            print(f'Epoch: {epoch:03d}, Loss: {loss:.4f}, Train acc: {train_acc:.4f}, Test acc: {test_acc:.4f}')\n",
    "        \n",
    "    loss_acc = np.array(loss_acc)\n",
    "        \n",
    "    plt.plot(loss_acc[:,0])\n",
    "    plt.xlabel(\"epoch\")\n",
    "    plt.ylabel(\"loss\")\n",
    "    plt.show()\n",
    "\n",
    "    plt.plot(loss_acc[:,1:], label=['Train accuracy', 'Test accuracy'])\n",
    "    plt.xlabel(\"epoch\")\n",
    "    plt.legend()\n",
    "    plt.show()\n",
    "\n",
    "    print(\"max_test_acc =\", max_test_acc)\n",
    "    \n",
    "    return loss_acc, max_test_acc\n",
    "\n",
    "  \n",
    "    \n",
    "    \n",
    "def final_repot():\n",
    "    \n",
    "    print(f'Number of nodes = {num_nodes}')\n",
    "    print(f'Number of features = {num_features}')\n",
    "    print(\"Number of classes =\", num_classes)\n",
    "    print(\"fraction_train =\", fraction_train)\n",
    "    print(\"learning rate =\", lr)\n",
    "    print(\"weight_decay =\", weight_decay)\n",
    "\n",
    "    model.load_state_dict(torch.load('final_model.pt'))   # load final model\n",
    "    train_acc, test_acc = Accuracy()\n",
    "\n",
    "    print(\"----------------------------\")\n",
    "    print(f'Train Accuracy: {train_acc:.4f}')\n",
    "    print(f'Test Accuracy: {test_acc:.4f}')\n",
    "    print(\"----------------------------\")\n",
    "\n",
    "    print(\"sanity check:\", max_test_acc==test_acc)\n",
    "    \n"
   ]
  },
  {
   "cell_type": "code",
   "execution_count": 14,
   "id": "ac2b3cd5",
   "metadata": {},
   "outputs": [],
   "source": [
    "class GCN(torch.nn.Module):\n",
    "    def __init__(self, num_features, hidden_channels, num_classes):\n",
    "        super().__init__()\n",
    "        torch.manual_seed(1234567)\n",
    "        self.conv1 = GCNConv(num_features, hidden_channels)\n",
    "        self.conv2 = GCNConv(hidden_channels, num_classes)\n",
    "\n",
    "    def forward(self, x, edge_index):\n",
    "        x = self.conv1(x, edge_index)\n",
    "        x = x.relu()                                               \n",
    "        x = F.dropout(x, p=0.5, training=self.training)            \n",
    "        x = self.conv2(x, edge_index)\n",
    "        return x\n"
   ]
  },
  {
   "cell_type": "code",
   "execution_count": 15,
   "id": "deddfe91",
   "metadata": {},
   "outputs": [
    {
     "name": "stdout",
     "output_type": "stream",
     "text": [
      "GCN(\n",
      "  (conv1): GCNConv(1703, 16)\n",
      "  (conv2): GCNConv(16, 5)\n",
      ")\n",
      "Epoch: 000, Loss: 1.7130, Train acc: 0.5411, Test acc: 0.6216\n",
      "Epoch: 050, Loss: 0.8515, Train acc: 0.7123, Test acc: 0.5135\n",
      "Epoch: 100, Loss: 0.8805, Train acc: 0.7123, Test acc: 0.5676\n",
      "Epoch: 150, Loss: 0.8351, Train acc: 0.7877, Test acc: 0.5135\n",
      "Epoch: 200, Loss: 0.7430, Train acc: 0.7534, Test acc: 0.5946\n"
     ]
    },
    {
     "data": {
      "image/png": "[encoded data removed]",
      "text/plain": [
       "<Figure size 432x288 with 1 Axes>"
      ]
     },
     "metadata": {
      "needs_background": "light"
     },
     "output_type": "display_data"
    },
    {
     "data": {
      "image/png": "[encoded data removed]",
      "text/plain": [
       "<Figure size 432x288 with 1 Axes>"
      ]
     },
     "metadata": {
      "needs_background": "light"
     },
     "output_type": "display_data"
    },
    {
     "name": "stdout",
     "output_type": "stream",
     "text": [
      "max_test_acc = 0.6486486486486487\n"
     ]
    }
   ],
   "source": [
    "lr = 0.04\n",
    "weight_decay = 1e-2\n",
    "num_epoch = 201\n",
    "hidden_channels = 16\n",
    "\n",
    "#----------------------------------------------------------------------\n",
    "\n",
    "model = GCN(num_features=num_features, hidden_channels=hidden_channels, num_classes=num_classes)  # Define model\n",
    "optimizer = torch.optim.Adam(model.parameters(), lr=lr, weight_decay=weight_decay)                # Define optimizer\n",
    "criterion = torch.nn.CrossEntropyLoss()                                                           # Define loss criterion\n",
    "print(model)\n",
    "\n",
    "#----------------------------------------------------------------------\n",
    "\n",
    "loss_acc, max_test_acc = training(num_epoch)\n"
   ]
  },
  {
   "cell_type": "code",
   "execution_count": 16,
   "id": "022887a1",
   "metadata": {},
   "outputs": [
    {
     "name": "stdout",
     "output_type": "stream",
     "text": [
      "Number of nodes = 183\n",
      "Number of features = 1703\n",
      "Number of classes = 5\n",
      "fraction_train = 0.8\n",
      "learning rate = 0.04\n",
      "weight_decay = 0.01\n",
      "----------------------------\n",
      "Train Accuracy: 0.7055\n",
      "Test Accuracy: 0.6486\n",
      "----------------------------\n",
      "sanity check: True\n",
      "hidden_channels = 16\n"
     ]
    }
   ],
   "source": [
    "final_repot()\n",
    "print(\"hidden_channels =\", hidden_channels)"
   ]
  },
  {
   "cell_type": "markdown",
   "id": "ea116a07",
   "metadata": {},
   "source": [
    "$ $\n",
    "\n",
    "\n",
    "\n",
    "\n",
    "\n",
    "$ $\n",
    "\n",
    "\n",
    "\n",
    "$ $\n",
    "\n",
    "\n",
    "\n",
    "\n",
    "# Extra:\n",
    "\n",
    "\n",
    "\n",
    "\n",
    "# Distributions of class-labels in whole, train, test dataset"
   ]
  },
  {
   "cell_type": "code",
   "execution_count": 17,
   "id": "81dbbd38",
   "metadata": {},
   "outputs": [
    {
     "data": {
      "image/png": "[encoded data removed]",
      "text/plain": [
       "<Figure size 432x288 with 1 Axes>"
      ]
     },
     "metadata": {
      "needs_background": "light"
     },
     "output_type": "display_data"
    },
    {
     "name": "stdout",
     "output_type": "stream",
     "text": [
      "[0.18032787 0.00546448 0.09836066 0.55191257 0.16393443] = Distribution of classes in whole dataset\n",
      "[0.17808219 0.         0.10273973 0.53424658 0.18493151] = Distribution of classes in Train set\n",
      "[0.18918919 0.02702703 0.08108108 0.62162162 0.08108108] = Distribution of classes in Test set\n",
      "\n",
      "normalization of distributions : 0.9999999999999999 1.0 1.0\n",
      "\n",
      "Kullback–Leibler divergence (distance) between whole and train distributions : 0.03057920767108041\n",
      "Kullback–Leibler divergence (distance) between whole and test distributions : 0.05133086178056777\n"
     ]
    }
   ],
   "source": [
    "\n",
    "plt.hist(np.array(y), label='whole dataset', bins=2*num_classes-1)\n",
    "plt.hist(np.array(y[ids_train]), label='Train set', bins=2*num_classes-1)\n",
    "plt.hist(np.array(y[ids_test]), label='Test set', bins=2*num_classes-1)\n",
    "plt.legend()\n",
    "plt.xlabel(\"y\")\n",
    "plt.ylabel(\"number of occurrences\")\n",
    "plt.show()\n",
    "\n",
    "\n",
    "dis_whole_set = np.histogram(np.array(y), bins=num_classes)[0]/num_nodes\n",
    "dis_train_set = np.histogram(np.array(y[ids_train]), bins=num_classes)[0]/ids_train.shape[0]\n",
    "dis_test_set = np.histogram(np.array(y[ids_test]), bins=num_classes)[0]/ids_test.shape[0]\n",
    "\n",
    "\n",
    "print(dis_whole_set, \"= Distribution of classes in whole dataset\")\n",
    "print(dis_train_set, \"= Distribution of classes in Train set\")\n",
    "print(dis_test_set, \"= Distribution of classes in Test set\")\n",
    "\n",
    "# these distribitions should be close to each other\n",
    "\n",
    "print()\n",
    "print(\"normalization of distributions :\", dis_whole_set.sum(), dis_train_set.sum(), dis_test_set.sum())\n",
    "print()\n",
    "\n",
    "def KL_div(p, q): # Kullback–Leibler divergence\n",
    "    q=q+0.00001   # for numerical stability\n",
    "    return np.dot(p, np.log(p/q))\n",
    "\n",
    "print(\"Kullback–Leibler divergence (distance) between whole and train distributions :\", KL_div(dis_whole_set, dis_train_set))\n",
    "print(\"Kullback–Leibler divergence (distance) between whole and test distributions :\", KL_div(dis_whole_set, dis_test_set))\n"
   ]
  },
  {
   "cell_type": "markdown",
   "id": "d14825f1",
   "metadata": {},
   "source": [
    "# degree vector"
   ]
  },
  {
   "cell_type": "code",
   "execution_count": 18,
   "id": "d176899e",
   "metadata": {},
   "outputs": [
    {
     "name": "stdout",
     "output_type": "stream",
     "text": [
      "degree vector = [  2   1   1   0   3   0   0   2   0   0   1   2   0   2   0   5   0   1\n",
      "   1   0   4   0   0   2   0   2   0   0   2   3   2   0   0   0   3   0\n",
      "   2   0   0   1   1   4   2   0   1   2   1   2   0   0   3   1   0   1\n",
      "   1   1 104   7   5   2   2   1   0   1   1   0   1   1   0   0   1   0\n",
      "   1   3   2   1   0   0   2   1   1   1   4   3   8   1   1   1   1   1\n",
      "   2   0   1   0   0   5   0   0   0   3   1   1   3   0   0   1   1   1\n",
      "   3   0   0   1   0   0   1   0   1   1   0   1   2   0   1   1   0   1\n",
      "   3   8   0   0   1   5   0   4   1   0   0   0   0   1   3   2   0   0\n",
      "   1   1   0   0   3   0   0   3   0   0   0   0   1   0   1   3   1   1\n",
      "   2   2   1   0   0   0   1   0   0   5   1   7   1   1   1   3   0   0\n",
      "   4   0   1]\n",
      "minimum degree = 0, maximum degree = 104\n"
     ]
    },
    {
     "data": {
      "image/png": "[encoded data removed]",
      "text/plain": [
       "<Figure size 432x288 with 1 Axes>"
      ]
     },
     "metadata": {
      "needs_background": "light"
     },
     "output_type": "display_data"
    }
   ],
   "source": [
    "edges0 = edge_index[0]\n",
    "\n",
    "deg_vec = []\n",
    "for i in range(num_nodes):\n",
    "    deg_vec.append(np.where(edges0==i)[0].shape[0])\n",
    "\n",
    "deg_vec = np.array(deg_vec)\n",
    "print(\"degree vector =\", deg_vec)\n",
    "\n",
    "\n",
    "min_deg, max_deg = np.min(deg_vec), np.max(deg_vec)\n",
    "print(f\"minimum degree = {min_deg}, maximum degree = {max_deg}\")\n",
    "\n",
    "\n",
    "\n",
    "plt.hist(deg_vec, bins=2*max_deg-1)\n",
    "plt.xlabel(\"deg\")\n",
    "plt.ylabel(\"number of occurrences\")\n",
    "plt.title(\"degree in whole set\")\n",
    "plt.show()"
   ]
  },
  {
   "cell_type": "code",
   "execution_count": null,
   "id": "00d17726",
   "metadata": {},
   "outputs": [],
   "source": []
  }
 ],
 "metadata": {
  "colab": {
   "collapsed_sections": [],
   "name": "GNN spin glass.ipynb",
   "provenance": []
  },
  "kernelspec": {
   "display_name": "Python 3 (ipykernel)",
   "language": "python",
   "name": "python3"
  },
  "language_info": {
   "codemirror_mode": {
    "name": "ipython",
    "version": 3
   },
   "file_extension": ".py",
   "mimetype": "text/x-python",
   "name": "python",
   "nbconvert_exporter": "python",
   "pygments_lexer": "ipython3",
   "version": "3.8.10"
  }
 },
 "nbformat": 4,
 "nbformat_minor": 5
}
